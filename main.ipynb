{
 "cells": [
  {
   "cell_type": "code",
   "execution_count": 23,
   "metadata": {},
   "outputs": [],
   "source": [
    "import pyarrow as pa\n",
    "import pyarrow.parquet as pq\n",
    "import pandas as pd\n",
    "# import recipes.parquet into a pandas DataFrame\n",
    "df: pd.DataFrame = pq.read_table('recipes.parquet').to_pandas()"
   ]
  },
  {
   "cell_type": "code",
   "execution_count": 24,
   "metadata": {},
   "outputs": [
    {
     "data": {
      "text/html": [
       "<div>\n",
       "<style scoped>\n",
       "    .dataframe tbody tr th:only-of-type {\n",
       "        vertical-align: middle;\n",
       "    }\n",
       "\n",
       "    .dataframe tbody tr th {\n",
       "        vertical-align: top;\n",
       "    }\n",
       "\n",
       "    .dataframe thead th {\n",
       "        text-align: right;\n",
       "    }\n",
       "</style>\n",
       "<table border=\"1\" class=\"dataframe\">\n",
       "  <thead>\n",
       "    <tr style=\"text-align: right;\">\n",
       "      <th></th>\n",
       "      <th>RecipeId</th>\n",
       "      <th>Name</th>\n",
       "      <th>AuthorName</th>\n",
       "      <th>Description</th>\n",
       "      <th>RecipeCategory</th>\n",
       "      <th>Keywords</th>\n",
       "      <th>RecipeIngredientParts</th>\n",
       "      <th>Calories</th>\n",
       "      <th>FatContent</th>\n",
       "      <th>SaturatedFatContent</th>\n",
       "      <th>CholesterolContent</th>\n",
       "      <th>SodiumContent</th>\n",
       "      <th>CarbohydrateContent</th>\n",
       "      <th>FiberContent</th>\n",
       "      <th>SugarContent</th>\n",
       "      <th>ProteinContent</th>\n",
       "    </tr>\n",
       "  </thead>\n",
       "  <tbody>\n",
       "    <tr>\n",
       "      <th>0</th>\n",
       "      <td>38.0</td>\n",
       "      <td>Low-Fat Berry Blue Frozen Dessert</td>\n",
       "      <td>Dancer</td>\n",
       "      <td>Make and share this Low-Fat Berry Blue Frozen ...</td>\n",
       "      <td>Frozen Desserts</td>\n",
       "      <td>[Dessert, Low Protein, Low Cholesterol, Health...</td>\n",
       "      <td>[blueberries, granulated sugar, vanilla yogurt...</td>\n",
       "      <td>170.9</td>\n",
       "      <td>2.5</td>\n",
       "      <td>1.3</td>\n",
       "      <td>8.0</td>\n",
       "      <td>29.8</td>\n",
       "      <td>37.1</td>\n",
       "      <td>3.6</td>\n",
       "      <td>30.2</td>\n",
       "      <td>3.2</td>\n",
       "    </tr>\n",
       "    <tr>\n",
       "      <th>1</th>\n",
       "      <td>39.0</td>\n",
       "      <td>Biryani</td>\n",
       "      <td>elly9812</td>\n",
       "      <td>Make and share this Biryani recipe from Food.com.</td>\n",
       "      <td>Chicken Breast</td>\n",
       "      <td>[Chicken Thigh &amp; Leg, Chicken, Poultry, Meat, ...</td>\n",
       "      <td>[saffron, milk, hot green chili peppers, onion...</td>\n",
       "      <td>1110.7</td>\n",
       "      <td>58.8</td>\n",
       "      <td>16.6</td>\n",
       "      <td>372.8</td>\n",
       "      <td>368.4</td>\n",
       "      <td>84.4</td>\n",
       "      <td>9.0</td>\n",
       "      <td>20.4</td>\n",
       "      <td>63.4</td>\n",
       "    </tr>\n",
       "    <tr>\n",
       "      <th>2</th>\n",
       "      <td>40.0</td>\n",
       "      <td>Best Lemonade</td>\n",
       "      <td>Stephen Little</td>\n",
       "      <td>This is from one of my  first Good House Keepi...</td>\n",
       "      <td>Beverages</td>\n",
       "      <td>[Low Protein, Low Cholesterol, Healthy, Summer...</td>\n",
       "      <td>[sugar, lemons, rind of, lemon, zest of, fresh...</td>\n",
       "      <td>311.1</td>\n",
       "      <td>0.2</td>\n",
       "      <td>0.0</td>\n",
       "      <td>0.0</td>\n",
       "      <td>1.8</td>\n",
       "      <td>81.5</td>\n",
       "      <td>0.4</td>\n",
       "      <td>77.2</td>\n",
       "      <td>0.3</td>\n",
       "    </tr>\n",
       "    <tr>\n",
       "      <th>3</th>\n",
       "      <td>41.0</td>\n",
       "      <td>Carina's Tofu-Vegetable Kebabs</td>\n",
       "      <td>Cyclopz</td>\n",
       "      <td>This dish is best prepared a day in advance to...</td>\n",
       "      <td>Soy/Tofu</td>\n",
       "      <td>[Beans, Vegetable, Low Cholesterol, Weeknight,...</td>\n",
       "      <td>[extra firm tofu, eggplant, zucchini, mushroom...</td>\n",
       "      <td>536.1</td>\n",
       "      <td>24.0</td>\n",
       "      <td>3.8</td>\n",
       "      <td>0.0</td>\n",
       "      <td>1558.6</td>\n",
       "      <td>64.2</td>\n",
       "      <td>17.3</td>\n",
       "      <td>32.1</td>\n",
       "      <td>29.3</td>\n",
       "    </tr>\n",
       "    <tr>\n",
       "      <th>4</th>\n",
       "      <td>42.0</td>\n",
       "      <td>Cabbage Soup</td>\n",
       "      <td>Duckie067</td>\n",
       "      <td>Make and share this Cabbage Soup recipe from F...</td>\n",
       "      <td>Vegetable</td>\n",
       "      <td>[Low Protein, Vegan, Low Cholesterol, Healthy,...</td>\n",
       "      <td>[plain tomato juice, cabbage, onion, carrots, ...</td>\n",
       "      <td>103.6</td>\n",
       "      <td>0.4</td>\n",
       "      <td>0.1</td>\n",
       "      <td>0.0</td>\n",
       "      <td>959.3</td>\n",
       "      <td>25.1</td>\n",
       "      <td>4.8</td>\n",
       "      <td>17.7</td>\n",
       "      <td>4.3</td>\n",
       "    </tr>\n",
       "  </tbody>\n",
       "</table>\n",
       "</div>"
      ],
      "text/plain": [
       "   RecipeId                               Name      AuthorName  \\\n",
       "0      38.0  Low-Fat Berry Blue Frozen Dessert          Dancer   \n",
       "1      39.0                            Biryani        elly9812   \n",
       "2      40.0                      Best Lemonade  Stephen Little   \n",
       "3      41.0     Carina's Tofu-Vegetable Kebabs         Cyclopz   \n",
       "4      42.0                       Cabbage Soup       Duckie067   \n",
       "\n",
       "                                         Description   RecipeCategory  \\\n",
       "0  Make and share this Low-Fat Berry Blue Frozen ...  Frozen Desserts   \n",
       "1  Make and share this Biryani recipe from Food.com.   Chicken Breast   \n",
       "2  This is from one of my  first Good House Keepi...        Beverages   \n",
       "3  This dish is best prepared a day in advance to...         Soy/Tofu   \n",
       "4  Make and share this Cabbage Soup recipe from F...        Vegetable   \n",
       "\n",
       "                                            Keywords  \\\n",
       "0  [Dessert, Low Protein, Low Cholesterol, Health...   \n",
       "1  [Chicken Thigh & Leg, Chicken, Poultry, Meat, ...   \n",
       "2  [Low Protein, Low Cholesterol, Healthy, Summer...   \n",
       "3  [Beans, Vegetable, Low Cholesterol, Weeknight,...   \n",
       "4  [Low Protein, Vegan, Low Cholesterol, Healthy,...   \n",
       "\n",
       "                               RecipeIngredientParts  Calories  FatContent  \\\n",
       "0  [blueberries, granulated sugar, vanilla yogurt...     170.9         2.5   \n",
       "1  [saffron, milk, hot green chili peppers, onion...    1110.7        58.8   \n",
       "2  [sugar, lemons, rind of, lemon, zest of, fresh...     311.1         0.2   \n",
       "3  [extra firm tofu, eggplant, zucchini, mushroom...     536.1        24.0   \n",
       "4  [plain tomato juice, cabbage, onion, carrots, ...     103.6         0.4   \n",
       "\n",
       "   SaturatedFatContent  CholesterolContent  SodiumContent  \\\n",
       "0                  1.3                 8.0           29.8   \n",
       "1                 16.6               372.8          368.4   \n",
       "2                  0.0                 0.0            1.8   \n",
       "3                  3.8                 0.0         1558.6   \n",
       "4                  0.1                 0.0          959.3   \n",
       "\n",
       "   CarbohydrateContent  FiberContent  SugarContent  ProteinContent  \n",
       "0                 37.1           3.6          30.2             3.2  \n",
       "1                 84.4           9.0          20.4            63.4  \n",
       "2                 81.5           0.4          77.2             0.3  \n",
       "3                 64.2          17.3          32.1            29.3  \n",
       "4                 25.1           4.8          17.7             4.3  "
      ]
     },
     "execution_count": 24,
     "metadata": {},
     "output_type": "execute_result"
    }
   ],
   "source": [
    "COLUMNS_TO_KEEP = [\n",
    "    'RecipeId',\n",
    "    'Name',\n",
    "    'AuthorName',\n",
    "    'Description',\n",
    "    'RecipeCategory',\n",
    "    'Keywords',\n",
    "    'RecipeIngredientParts',\n",
    "    'Calories',\n",
    "    'FatContent',\n",
    "    'SaturatedFatContent',\n",
    "    'CholesterolContent',\n",
    "    'SodiumContent',\n",
    "    'CarbohydrateContent',\n",
    "    'FiberContent',\n",
    "    'SugarContent',\n",
    "    'ProteinContent',\n",
    "]\n",
    "\n",
    "df_columns= df[COLUMNS_TO_KEEP]\n",
    "df_columns.head()"
   ]
  },
  {
   "cell_type": "code",
   "execution_count": 25,
   "metadata": {},
   "outputs": [
    {
     "data": {
      "text/plain": [
       "315"
      ]
     },
     "execution_count": 25,
     "metadata": {},
     "output_type": "execute_result"
    }
   ],
   "source": [
    "keywords = set()\n",
    "for kw in df_columns['Keywords']:\n",
    "    keywords.update(kw)\n",
    "len(keywords)"
   ]
  },
  {
   "cell_type": "code",
   "execution_count": 26,
   "metadata": {},
   "outputs": [
    {
     "data": {
      "text/plain": [
       "7368"
      ]
     },
     "execution_count": 26,
     "metadata": {},
     "output_type": "execute_result"
    }
   ],
   "source": [
    "ingredients = set()\n",
    "for ing in df_columns['RecipeIngredientParts']:\n",
    "    ingredients.update(ing)\n",
    "len(ingredients)"
   ]
  },
  {
   "cell_type": "code",
   "execution_count": 27,
   "metadata": {},
   "outputs": [
    {
     "data": {
      "text/plain": [
       "312"
      ]
     },
     "execution_count": 27,
     "metadata": {},
     "output_type": "execute_result"
    }
   ],
   "source": [
    "categories = set()\n",
    "categories.update(df_columns['RecipeCategory'])\n",
    "len(categories)"
   ]
  },
  {
   "cell_type": "code",
   "execution_count": 28,
   "metadata": {},
   "outputs": [],
   "source": [
    "from typing import List\n",
    "\n",
    "def nutrient_score(nutients: List[float], a: float = 0.1):\n",
    "    return sum(map(lambda x: max(0, a * (x - 5) * (x - 20)), nutients))\n",
    "\n",
    "NUTRIENT_COLUMNS = [\n",
    "    'Calories',\n",
    "    'FatContent',\n",
    "    'SaturatedFatContent',\n",
    "    'CholesterolContent',\n",
    "    'SodiumContent',\n",
    "    'CarbohydrateContent',\n",
    "    'FiberContent',\n",
    "#    'SugarContent', # There is no published DV for sugar\n",
    "    'ProteinContent',\n",
    "]\n",
    "\n",
    "NUTRIENT_TARGET_DV = {\n",
    "    'Calories': 2000,\n",
    "    'FatContent': 78,\n",
    "    'SaturatedFatContent': 20,\n",
    "    'CholesterolContent': 300,\n",
    "    'SodiumContent': 2300,\n",
    "    'CarbohydrateContent': 275,\n",
    "    'FiberContent': 28,\n",
    "#    'SugarContent': 50, # 50g is the recommended daily limit for *added* sugar\n",
    "    'ProteinContent': 50,\n",
    "}\n",
    "\n",
    "df_nutrients = df_columns.copy()\n",
    "for column in NUTRIENT_COLUMNS:\n",
    "    df_nutrients[column + 'DV'] = df_nutrients[column] / NUTRIENT_TARGET_DV[column]\n",
    "\n",
    "df_nutrients['NutrientScore'] = df_nutrients[NUTRIENT_COLUMNS].apply(nutrient_score, axis=1)"
   ]
  },
  {
   "cell_type": "code",
   "execution_count": 29,
   "metadata": {},
   "outputs": [
    {
     "name": "stdout",
     "output_type": "stream",
     "text": [
      "522517\n",
      "479647\n"
     ]
    }
   ],
   "source": [
    "# Drop values with nutrient score greater than MAX_SCORE\n",
    "df_outliers = df_nutrients.copy()\n",
    "print(len(df_outliers))\n",
    "MAX_SCORE = 400_000\n",
    "df_outliers = df_outliers[df_outliers['NutrientScore'] < MAX_SCORE]\n",
    "print(len(df_outliers))"
   ]
  },
  {
   "cell_type": "code",
   "execution_count": 30,
   "metadata": {},
   "outputs": [],
   "source": [
    "df_outliers.drop(columns=['Keywords', 'RecipeIngredientParts']).to_csv('recipes-dv.csv', index=False)"
   ]
  },
  {
   "cell_type": "code",
   "execution_count": 31,
   "metadata": {},
   "outputs": [
    {
     "data": {
      "text/plain": [
       "0.5014152649578866"
      ]
     },
     "execution_count": 31,
     "metadata": {},
     "output_type": "execute_result"
    }
   ],
   "source": [
    "# Find the ratio of recipes with a calorie DV between 0.05 and 0.2 without creating a new df\n",
    "calories = df_nutrients['CaloriesDV']\n",
    "calories_filtered = calories[(calories > 0.05) & (calories < 0.2)]\n",
    "calories_filtered_ratio = len(calories_filtered) / len(calories)\n",
    "calories_filtered_ratio"
   ]
  },
  {
   "cell_type": "code",
   "execution_count": 32,
   "metadata": {},
   "outputs": [],
   "source": [
    "# The bottom calories_filitered_ration% of the nutrient score column, are healthy\n",
    "# Create a new boolean column called Healthy\n",
    "df_healthy = df_nutrients.copy()\n",
    "df_healthy['Healthy'] = df_healthy['NutrientScore'] < df_healthy['NutrientScore'].quantile(calories_filtered_ratio)"
   ]
  },
  {
   "cell_type": "code",
   "execution_count": 33,
   "metadata": {},
   "outputs": [],
   "source": [
    "df_healthy.drop(columns=['Keywords', 'RecipeIngredientParts']).to_csv('recipes-healthy.csv', index=False)"
   ]
  },
  {
   "cell_type": "code",
   "execution_count": null,
   "metadata": {},
   "outputs": [],
   "source": []
  }
 ],
 "metadata": {
  "kernelspec": {
   "display_name": "venv",
   "language": "python",
   "name": "python3"
  },
  "language_info": {
   "codemirror_mode": {
    "name": "ipython",
    "version": 3
   },
   "file_extension": ".py",
   "mimetype": "text/x-python",
   "name": "python",
   "nbconvert_exporter": "python",
   "pygments_lexer": "ipython3",
   "version": "3.11.8"
  }
 },
 "nbformat": 4,
 "nbformat_minor": 2
}
